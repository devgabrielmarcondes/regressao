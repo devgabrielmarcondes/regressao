{
  "cells": [
    {
      "cell_type": "markdown",
      "metadata": {},
      "source": [
        "# Regressão linear - Gradiente Descendente\n",
        "\n",
        "- Aplicação do gradiente descendente para minimizar o erro quadrático"
      ]
    },
    {
      "cell_type": "code",
      "execution_count": 6,
      "metadata": {
        "id": "-gl0Q1Sepqxq"
      },
      "outputs": [],
      "source": [
        "lista = [(-1,1.1),(0 ,3.4),(1,5.2),(2,6.9),(3,9.9),(4,11.1),(5,13.3)]\n",
        "def grad(a,b):\n",
        "  # x0 = lista[0][0]\n",
        "  # y0 = lista[0][1]\n",
        "\n",
        "  #xi = lista[i][0]\n",
        "  #xi = lista[i][1]\n",
        "  grada = sum([-2*(lista[i][1] - a*lista[i][0] - b)*(lista[i][0]) for i in range(len(lista))])\n",
        "  gradb = sum([-2*(lista[i][1] - a*lista[i][0] - b) for i in range(len(lista))])\n",
        "\n",
        "  return [grada,gradb]"
      ]
    },
    {
      "cell_type": "code",
      "execution_count": 7,
      "metadata": {
        "id": "icIFVYNTqP-k"
      },
      "outputs": [],
      "source": [
        "import math\n",
        "def dist(anterior,novo):\n",
        "  zs = zip(anterior,novo)\n",
        "  acc = 0\n",
        "  for [p1,p2] in zs:\n",
        "    acc += (p1-p2)**2\n",
        "\n",
        "  return math.sqrt(acc)"
      ]
    },
    {
      "cell_type": "code",
      "execution_count": 8,
      "metadata": {
        "id": "ymunvIr5rWnb"
      },
      "outputs": [],
      "source": [
        "def grad_desc(lr,xn,yn,tol):\n",
        "  d = 99999\n",
        "  xn1 = 658765785798\n",
        "  yn1 = 54575765785\n",
        "  k = 0\n",
        "  while d > tol:\n",
        "    xn1 = xn - lr * grad(xn,yn)[0]\n",
        "    yn1 = yn - lr * grad(xn,yn)[1]\n",
        "    d = dist([xn,yn],[xn1,yn1])\n",
        "    xn = xn1\n",
        "    yn = yn1\n",
        "    k += 1\n",
        "\n",
        "  return [xn1,yn1,k]\n"
      ]
    },
    {
      "cell_type": "code",
      "execution_count": 9,
      "metadata": {
        "colab": {
          "base_uri": "https://localhost:8080/"
        },
        "id": "BiO86LtjtPf7",
        "outputId": "3f8cb5c4-edcd-4e30-fac0-4c2137616c48"
      },
      "outputs": [
        {
          "data": {
            "text/plain": [
              "[2.024641812812525, 3.222777348363542, 119]"
            ]
          },
          "execution_count": 9,
          "metadata": {},
          "output_type": "execute_result"
        }
      ],
      "source": [
        "z = grad_desc(0.01,10,10,1e-4)\n",
        "z"
      ]
    },
    {
      "cell_type": "code",
      "execution_count": 10,
      "metadata": {
        "colab": {
          "base_uri": "https://localhost:8080/",
          "height": 447
        },
        "id": "4JOnjHcl1lk2",
        "outputId": "2259e768-828a-495e-b7f1-270b39ab0b4e"
      },
      "outputs": [
        {
          "name": "stdout",
          "output_type": "stream",
          "text": [
            "[-1, 0, 1, 2, 3, 4, 5]\n"
          ]
        },
        {
          "data": {
            "text/plain": [
              "[<matplotlib.lines.Line2D at 0x1527093bb10>]"
            ]
          },
          "execution_count": 10,
          "metadata": {},
          "output_type": "execute_result"
        },
        {
          "data": {
            "image/png": "[encoded data removed]",
            "text/plain": [
              "<Figure size 640x480 with 1 Axes>"
            ]
          },
          "metadata": {},
          "output_type": "display_data"
        }
      ],
      "source": [
        "import matplotlib.pyplot as plt\n",
        "x = [lista[i][0] for i in range(len(lista))]\n",
        "y = [lista[i][1] for i in range(len(lista))]\n",
        "\n",
        "x1 = [-1,0,1,2,3,4,5]\n",
        "y1 = [z[0]*xx + z[1] for xx in x1]\n",
        "plt.scatter(x,y)\n",
        "plt.plot(x1,y1)"
      ]
    }
  ],
  "metadata": {
    "colab": {
      "provenance": []
    },
    "kernelspec": {
      "display_name": "Python 3",
      "name": "python3"
    },
    "language_info": {
      "codemirror_mode": {
        "name": "ipython",
        "version": 3
      },
      "file_extension": ".py",
      "mimetype": "text/x-python",
      "name": "python",
      "nbconvert_exporter": "python",
      "pygments_lexer": "ipython3",
      "version": "3.11.4"
    }
  },
  "nbformat": 4,
  "nbformat_minor": 0
}
