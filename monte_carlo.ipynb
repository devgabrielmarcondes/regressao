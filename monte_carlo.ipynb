{
  "cells": [
    {
      "cell_type": "code",
      "execution_count": 2,
      "metadata": {
        "id": "SXBn-z3crLbt"
      },
      "outputs": [
        {
          "name": "stderr",
          "output_type": "stream",
          "text": [
            "WARNING (pytensor.configdefaults): g++ not available, if using conda: `conda install m2w64-toolchain`\n",
            "WARNING (pytensor.configdefaults): g++ not detected!  PyTensor will be unable to compile C-implementations and will default to Python. Performance may be severely degraded. To remove this warning, set PyTensor flags cxx to an empty string.\n",
            "WARNING (pytensor.tensor.blas): Using NumPy C-API based implementation for BLAS functions.\n",
            "C:\\Users\\Gabriel\\AppData\\Roaming\\Python\\Python311\\site-packages\\pandas\\core\\arrays\\masked.py:60: UserWarning: Pandas requires version '1.3.6' or newer of 'bottleneck' (version '1.3.5' currently installed).\n",
            "  from pandas.core import (\n"
          ]
        }
      ],
      "source": [
        "import pymc as pm"
      ]
    },
    {
      "cell_type": "code",
      "execution_count": null,
      "metadata": {
        "colab": {
          "base_uri": "https://localhost:8080/"
        },
        "id": "BDMJM286vHA_",
        "outputId": "7995f69d-1481-41b4-c19c-dc4fd34318c1"
      },
      "outputs": [
        {
          "data": {
            "text/plain": [
              "1.1269838694436662"
            ]
          },
          "execution_count": 35,
          "metadata": {},
          "output_type": "execute_result"
        }
      ],
      "source": [
        "import numpy as np\n",
        "\n",
        "np.std(amostras)"
      ]
    },
    {
      "cell_type": "markdown",
      "metadata": {
        "id": "sX8qWb0gBpKW"
      },
      "source": [
        "# Método de Monte Carlo\n",
        "\n",
        "Resolver: P(0 <= X <= 0.78) com X ~ Normal(0,1)"
      ]
    },
    {
      "cell_type": "code",
      "execution_count": 5,
      "metadata": {
        "colab": {
          "base_uri": "https://localhost:8080/"
        },
        "id": "ROjlb8GfBode",
        "outputId": "a1c94b9b-f9f9-4d31-aa36-5fff9747e911"
      },
      "outputs": [
        {
          "data": {
            "text/plain": [
              "(0.77, 0.3183098861837907)"
            ]
          },
          "execution_count": 5,
          "metadata": {},
          "output_type": "execute_result"
        }
      ],
      "source": [
        "import math\n",
        "base = 0.77\n",
        "altura = 1/math.pi\n",
        "base, altura"
      ]
    },
    {
      "cell_type": "code",
      "execution_count": 6,
      "metadata": {
        "id": "V-1mT8p0B-eR"
      },
      "outputs": [],
      "source": [
        "with pm.Model() as model_2:\n",
        "  X = pm.Uniform(\"X\",0.1,base,shape=3000)\n",
        "  Y = pm.Uniform(\"Y\",0,altura,shape=3000)"
      ]
    },
    {
      "cell_type": "code",
      "execution_count": null,
      "metadata": {
        "colab": {
          "base_uri": "https://localhost:8080/",
          "height": 58
        },
        "id": "sHg3gF1BCnFD",
        "outputId": "904b63b0-1534-4d3e-8a54-cab41d26acdc"
      },
      "outputs": [
        {
          "data": {
            "text/latex": [
              "$$\n",
              "            \\begin{array}{rcl}\n",
              "            \\text{X} &\\sim & \\operatorname{Uniform}(0.1,~0.78)\\\\\\text{Y} &\\sim & \\operatorname{Uniform}(0,~0.399)\n",
              "            \\end{array}\n",
              "            $$"
            ],
            "text/plain": [
              "<pymc.model.core.Model at 0x786df70e7610>"
            ]
          },
          "execution_count": 66,
          "metadata": {},
          "output_type": "execute_result"
        }
      ],
      "source": [
        "model_2"
      ]
    },
    {
      "cell_type": "code",
      "execution_count": 1,
      "metadata": {
        "colab": {
          "base_uri": "https://localhost:8080/",
          "height": 57
        },
        "id": "ivS23BifCrPe",
        "outputId": "9a268a7c-3d9c-445a-f581-d4e4f52dde1a"
      },
      "outputs": [
        {
          "ename": "NameError",
          "evalue": "name 'model_2' is not defined",
          "output_type": "error",
          "traceback": [
            "\u001b[1;31m---------------------------------------------------------------------------\u001b[0m",
            "\u001b[1;31mNameError\u001b[0m                                 Traceback (most recent call last)",
            "Cell \u001b[1;32mIn[1], line 1\u001b[0m\n\u001b[1;32m----> 1\u001b[0m \u001b[38;5;28;01mwith\u001b[39;00m \u001b[43mmodel_2\u001b[49m:\n\u001b[0;32m      2\u001b[0m   trace_2 \u001b[38;5;241m=\u001b[39m pm\u001b[38;5;241m.\u001b[39msample()\n",
            "\u001b[1;31mNameError\u001b[0m: name 'model_2' is not defined"
          ]
        }
      ],
      "source": [
        "with model_2:\n",
        "  trace_2 = pm.sample()"
      ]
    },
    {
      "cell_type": "code",
      "execution_count": null,
      "metadata": {
        "id": "qit9CcPdDAAw"
      },
      "outputs": [],
      "source": [
        "amostrasX = trace_2.posterior[\"X\"].values[1][999]\n",
        "amostrasY = trace_2.posterior[\"Y\"].values[1][999]"
      ]
    },
    {
      "cell_type": "code",
      "execution_count": null,
      "metadata": {
        "colab": {
          "base_uri": "https://localhost:8080/"
        },
        "id": "Cr12P2fgDI7S",
        "outputId": "6b871554-9808-4169-c03b-b67253cceec1"
      },
      "outputs": [
        {
          "data": {
            "text/plain": [
              "3000"
            ]
          },
          "execution_count": 69,
          "metadata": {},
          "output_type": "execute_result"
        }
      ],
      "source": [
        "pedras = list(zip(amostrasX,amostrasY))\n",
        "len(pedras)"
      ]
    },
    {
      "cell_type": "code",
      "execution_count": null,
      "metadata": {
        "id": "TzlnwLmvD39m"
      },
      "outputs": [],
      "source": [
        "def func(x):\n",
        "  return 1/math.pi*(1+x**2)"
      ]
    },
    {
      "cell_type": "code",
      "execution_count": null,
      "metadata": {
        "colab": {
          "base_uri": "https://localhost:8080/"
        },
        "id": "ARrAuTApDYWT",
        "outputId": "2c90f078-99db-4802-d1b7-ddb086bad845"
      },
      "outputs": [
        {
          "name": "stdout",
          "output_type": "stream",
          "text": [
            "2694\n",
            "Area: 0.24361011410433087\n"
          ]
        }
      ],
      "source": [
        "ct = 0\n",
        "for (x,y) in pedras:\n",
        "  if (y <= func(x)):\n",
        "    ct += 1\n",
        "\n",
        "print(ct)\n",
        "\n",
        "print(f\"Area: {(base-0.1)*altura*ct/len(pedras)}\")"
      ]
    }
  ],
  "metadata": {
    "colab": {
      "provenance": []
    },
    "kernelspec": {
      "display_name": "Python 3",
      "name": "python3"
    },
    "language_info": {
      "codemirror_mode": {
        "name": "ipython",
        "version": 3
      },
      "file_extension": ".py",
      "mimetype": "text/x-python",
      "name": "python",
      "nbconvert_exporter": "python",
      "pygments_lexer": "ipython3",
      "version": "3.11.4"
    }
  },
  "nbformat": 4,
  "nbformat_minor": 0
}
