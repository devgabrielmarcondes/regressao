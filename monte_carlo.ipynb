{
  "cells": [
    {
      "cell_type": "code",
      "execution_count": 1,
      "metadata": {
        "id": "SXBn-z3crLbt"
      },
      "outputs": [],
      "source": [
        "import pymc as pm\n",
        "import math"
      ]
    },
    {
      "cell_type": "markdown",
      "metadata": {
        "id": "sX8qWb0gBpKW"
      },
      "source": [
        "## Método de Monte Carlo\n",
        "\n",
        "### Função escolhida: Distribuição de Cauchy Padrão\n",
        "$f(x) = \\frac{1}{\\pi(1+x^2)}$\n",
        "\n",
        "### Área a ser calculada\n",
        "\n",
        "$\\int_{0}^{0.77} \\frac{1}{\\pi(1+x^2)} \\,dx = P(0 \\leq X \\leq 0.77)$\n",
        "\n",
        "com $X \\sim Cauchy(0,1)$\n",
        "\n",
        "em que $\\alpha = 0$ e $\\beta = 1$"
      ]
    },
    {
      "cell_type": "code",
      "execution_count": 2,
      "metadata": {
        "colab": {
          "base_uri": "https://localhost:8080/"
        },
        "id": "ROjlb8GfBode",
        "outputId": "99d637dc-5275-43f7-ae54-7f18b5bdf6c4"
      },
      "outputs": [
        {
          "output_type": "execute_result",
          "data": {
            "text/plain": [
              "(0.77, 0.3183098861837907)"
            ]
          },
          "metadata": {},
          "execution_count": 2
        }
      ],
      "source": [
        "base = 0.77\n",
        "altura = 1/math.pi\n",
        "base, altura"
      ]
    },
    {
      "cell_type": "code",
      "execution_count": 3,
      "metadata": {
        "id": "V-1mT8p0B-eR"
      },
      "outputs": [],
      "source": [
        "with pm.Model() as model:\n",
        "  X = pm.Uniform(\"X\",0.1,base,shape=3000)\n",
        "  Y = pm.Uniform(\"Y\",0,altura,shape=3000)"
      ]
    },
    {
      "cell_type": "code",
      "execution_count": 4,
      "metadata": {
        "colab": {
          "base_uri": "https://localhost:8080/",
          "height": 58
        },
        "id": "sHg3gF1BCnFD",
        "outputId": "14f69da6-f97d-42a4-9691-b1f9d9375419"
      },
      "outputs": [
        {
          "output_type": "execute_result",
          "data": {
            "text/plain": [
              "<pymc.model.core.Model at 0x7ec96ba1f880>"
            ],
            "text/latex": "$$\n            \\begin{array}{rcl}\n            \\text{X} &\\sim & \\operatorname{Uniform}(0.1,~0.77)\\\\\\text{Y} &\\sim & \\operatorname{Uniform}(0,~0.318)\n            \\end{array}\n            $$"
          },
          "metadata": {},
          "execution_count": 4
        }
      ],
      "source": [
        "model"
      ]
    },
    {
      "cell_type": "code",
      "execution_count": 5,
      "metadata": {
        "colab": {
          "base_uri": "https://localhost:8080/",
          "height": 57
        },
        "id": "ivS23BifCrPe",
        "outputId": "993331f1-e6d1-486d-cd20-98333aa85628"
      },
      "outputs": [
        {
          "output_type": "display_data",
          "data": {
            "text/plain": [
              "<IPython.core.display.HTML object>"
            ],
            "text/html": [
              "\n",
              "<style>\n",
              "    /* Turns off some styling */\n",
              "    progress {\n",
              "        /* gets rid of default border in Firefox and Opera. */\n",
              "        border: none;\n",
              "        /* Needs to be in here for Safari polyfill so background images work as expected. */\n",
              "        background-size: auto;\n",
              "    }\n",
              "    progress:not([value]), progress:not([value])::-webkit-progress-bar {\n",
              "        background: repeating-linear-gradient(45deg, #7e7e7e, #7e7e7e 10px, #5c5c5c 10px, #5c5c5c 20px);\n",
              "    }\n",
              "    .progress-bar-interrupted, .progress-bar-interrupted::-webkit-progress-bar {\n",
              "        background: #F44336;\n",
              "    }\n",
              "</style>\n"
            ]
          },
          "metadata": {}
        },
        {
          "output_type": "display_data",
          "data": {
            "text/plain": [
              "<IPython.core.display.HTML object>"
            ],
            "text/html": [
              "\n",
              "    <div>\n",
              "      <progress value='2000' class='' max='2000' style='width:300px; height:20px; vertical-align: middle;'></progress>\n",
              "      100.00% [2000/2000 00:42&lt;00:00 Sampling chain 0, 0 divergences]\n",
              "    </div>\n",
              "    "
            ]
          },
          "metadata": {}
        },
        {
          "output_type": "display_data",
          "data": {
            "text/plain": [
              "<IPython.core.display.HTML object>"
            ],
            "text/html": [
              "\n",
              "<style>\n",
              "    /* Turns off some styling */\n",
              "    progress {\n",
              "        /* gets rid of default border in Firefox and Opera. */\n",
              "        border: none;\n",
              "        /* Needs to be in here for Safari polyfill so background images work as expected. */\n",
              "        background-size: auto;\n",
              "    }\n",
              "    progress:not([value]), progress:not([value])::-webkit-progress-bar {\n",
              "        background: repeating-linear-gradient(45deg, #7e7e7e, #7e7e7e 10px, #5c5c5c 10px, #5c5c5c 20px);\n",
              "    }\n",
              "    .progress-bar-interrupted, .progress-bar-interrupted::-webkit-progress-bar {\n",
              "        background: #F44336;\n",
              "    }\n",
              "</style>\n"
            ]
          },
          "metadata": {}
        },
        {
          "output_type": "display_data",
          "data": {
            "text/plain": [
              "<IPython.core.display.HTML object>"
            ],
            "text/html": [
              "\n",
              "    <div>\n",
              "      <progress value='2000' class='' max='2000' style='width:300px; height:20px; vertical-align: middle;'></progress>\n",
              "      100.00% [2000/2000 00:37&lt;00:00 Sampling chain 1, 0 divergences]\n",
              "    </div>\n",
              "    "
            ]
          },
          "metadata": {}
        }
      ],
      "source": [
        "with model:\n",
        "  trace = pm.sample()"
      ]
    },
    {
      "cell_type": "code",
      "execution_count": 6,
      "metadata": {
        "id": "qit9CcPdDAAw"
      },
      "outputs": [],
      "source": [
        "amostrasX = trace.posterior[\"X\"].values[1][999]\n",
        "amostrasY = trace.posterior[\"Y\"].values[1][999]"
      ]
    },
    {
      "cell_type": "code",
      "execution_count": 7,
      "metadata": {
        "colab": {
          "base_uri": "https://localhost:8080/"
        },
        "id": "Cr12P2fgDI7S",
        "outputId": "0714ed6f-27f2-492d-b30f-498c4d23bc76"
      },
      "outputs": [
        {
          "output_type": "execute_result",
          "data": {
            "text/plain": [
              "3000"
            ]
          },
          "metadata": {},
          "execution_count": 7
        }
      ],
      "source": [
        "pedras = list(zip(amostrasX,amostrasY))\n",
        "len(pedras)"
      ]
    },
    {
      "cell_type": "code",
      "execution_count": 8,
      "metadata": {
        "id": "TzlnwLmvD39m"
      },
      "outputs": [],
      "source": [
        "def func(x):\n",
        "  return 1/math.pi*(1+x**2)"
      ]
    },
    {
      "cell_type": "code",
      "execution_count": 9,
      "metadata": {
        "colab": {
          "base_uri": "https://localhost:8080/"
        },
        "id": "ARrAuTApDYWT",
        "outputId": "3bfb081b-0220-4295-8f46-389378f087d9"
      },
      "outputs": [
        {
          "output_type": "stream",
          "name": "stdout",
          "text": [
            "3000\n",
            "Area: 0.2132676237431398\n"
          ]
        }
      ],
      "source": [
        "ct = 0\n",
        "for (x,y) in pedras:\n",
        "  if (y <= func(x)):\n",
        "    ct += 1\n",
        "\n",
        "print(ct)\n",
        "\n",
        "print(f\"Area: {(base-0.1)*altura*ct/len(pedras)}\")"
      ]
    },
    {
      "cell_type": "code",
      "source": [
        "import matplotlib.pyplot as plt\n",
        "\n",
        "plt.figure(figsize=(10,6))\n",
        "plt.plot()"
      ],
      "metadata": {
        "id": "VfivHa1nMbXL"
      },
      "execution_count": null,
      "outputs": []
    },
    {
      "cell_type": "markdown",
      "source": [
        "![image.png](data:image/png;base64,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)"
      ],
      "metadata": {
        "id": "-dg-qevjMSfG"
      }
    }
  ],
  "metadata": {
    "colab": {
      "provenance": []
    },
    "kernelspec": {
      "display_name": "Python 3",
      "name": "python3"
    },
    "language_info": {
      "codemirror_mode": {
        "name": "ipython",
        "version": 3
      },
      "file_extension": ".py",
      "mimetype": "text/x-python",
      "name": "python",
      "nbconvert_exporter": "python",
      "pygments_lexer": "ipython3",
      "version": "3.11.4"
    }
  },
  "nbformat": 4,
  "nbformat_minor": 0
}